{
  "nbformat": 4,
  "nbformat_minor": 0,
  "metadata": {
    "colab": {
      "provenance": [],
      "authorship_tag": "ABX9TyMSPsBCt+vclBBS9fFvrB1N",
      "include_colab_link": true
    },
    "kernelspec": {
      "name": "python3",
      "display_name": "Python 3"
    },
    "language_info": {
      "name": "python"
    }
  },
  "cells": [
    {
      "cell_type": "markdown",
      "metadata": {
        "id": "view-in-github",
        "colab_type": "text"
      },
      "source": [
        "<a href=\"https://colab.research.google.com/github/LonnieSly/-ETL_pipeline_project_01/blob/main/etl_pipeline_01.ipynb\" target=\"_parent\"><img src=\"https://colab.research.google.com/assets/colab-badge.svg\" alt=\"Open In Colab\"/></a>"
      ]
    },
    {
      "cell_type": "code",
      "execution_count": 1,
      "metadata": {
        "id": "CyLHBElD_go0"
      },
      "outputs": [],
      "source": [
        "import pandas as pd\n",
        "from pandas_gbq import to_gbq\n",
        "from datetime import datetime\n",
        "import time"
      ]
    },
    {
      "cell_type": "code",
      "source": [
        "# Step 1: Load data\n",
        "df = pd.read_csv(\"restaurant_reviews.csv\")\n"
      ],
      "metadata": {
        "id": "zItWKobm_kfK"
      },
      "execution_count": 2,
      "outputs": []
    },
    {
      "cell_type": "code",
      "source": [
        "# Step 2: Quick check of structure\n",
        "print(\"Shape:\", df.shape)\n",
        "print(\"Columns:\", df.columns.tolist())\n",
        "print(\"Sample rows:\")\n",
        "print(df.head())"
      ],
      "metadata": {
        "colab": {
          "base_uri": "https://localhost:8080/"
        },
        "id": "cXrob4_2_kEm",
        "outputId": "77afb2e5-ec9a-4d6b-8bfb-09dfbe0247fd"
      },
      "execution_count": 3,
      "outputs": [
        {
          "output_type": "stream",
          "name": "stdout",
          "text": [
            "Shape: (10000, 8)\n",
            "Columns: ['Restaurant', 'Reviewer', 'Review', 'Rating', 'Metadata', 'Time', 'Pictures', '7514']\n",
            "Sample rows:\n",
            "        Restaurant              Reviewer  \\\n",
            "0  Beyond Flavours     Rusha Chakraborty   \n",
            "1  Beyond Flavours  Anusha Tirumalaneedi   \n",
            "2  Beyond Flavours       Ashok Shekhawat   \n",
            "3  Beyond Flavours        Swapnil Sarkar   \n",
            "4  Beyond Flavours                Dileep   \n",
            "\n",
            "                                              Review Rating  \\\n",
            "0  The ambience was good, food was quite good . h...      5   \n",
            "1  Ambience is too good for a pleasant evening. S...      5   \n",
            "2  A must try.. great food great ambience. Thnx f...      5   \n",
            "3  Soumen das and Arun was a great guy. Only beca...      5   \n",
            "4  Food is good.we ordered Kodi drumsticks and ba...      5   \n",
            "\n",
            "                  Metadata             Time  Pictures    7514  \n",
            "0   1 Review , 2 Followers  5/25/2019 15:54         0  2447.0  \n",
            "1  3 Reviews , 2 Followers  5/25/2019 14:20         0     NaN  \n",
            "2  2 Reviews , 3 Followers  5/24/2019 22:54         0     NaN  \n",
            "3    1 Review , 1 Follower  5/24/2019 22:11         0     NaN  \n",
            "4  3 Reviews , 2 Followers  5/24/2019 21:37         0     NaN  \n"
          ]
        }
      ]
    },
    {
      "cell_type": "code",
      "source": [
        "# Make a copy to work on\n",
        "df_cleaned = df.copy()"
      ],
      "metadata": {
        "id": "4P7JhK-x_jwC"
      },
      "execution_count": 4,
      "outputs": []
    },
    {
      "cell_type": "code",
      "source": [
        "# 1. Drop corrupted/misnamed column\n",
        "if '7514' in df_cleaned.columns:\n",
        "    df_cleaned.drop(columns=['7514'], inplace=True)"
      ],
      "metadata": {
        "id": "DhgTKvKY_jSO"
      },
      "execution_count": 5,
      "outputs": []
    },
    {
      "cell_type": "code",
      "source": [
        "print(\"Columns:\",df_cleaned.columns.tolist())"
      ],
      "metadata": {
        "colab": {
          "base_uri": "https://localhost:8080/"
        },
        "id": "HClkDNx6Bw9H",
        "outputId": "bd19f61a-d5aa-4826-8571-dd337ca81c0e"
      },
      "execution_count": 6,
      "outputs": [
        {
          "output_type": "stream",
          "name": "stdout",
          "text": [
            "Columns: ['Restaurant', 'Reviewer', 'Review', 'Rating', 'Metadata', 'Time', 'Pictures']\n"
          ]
        }
      ]
    },
    {
      "cell_type": "code",
      "source": [
        "# 2. Check for null values in critical columns\n",
        "print(df_cleaned[['Review', 'Rating', 'Time', 'Metadata']].isnull().sum())"
      ],
      "metadata": {
        "colab": {
          "base_uri": "https://localhost:8080/"
        },
        "id": "WJTwiMnsBwhh",
        "outputId": "53676ff2-50d6-495f-834e-a991bba24e09"
      },
      "execution_count": 7,
      "outputs": [
        {
          "output_type": "stream",
          "name": "stdout",
          "text": [
            "Review      45\n",
            "Rating      38\n",
            "Time        38\n",
            "Metadata    38\n",
            "dtype: int64\n"
          ]
        }
      ]
    },
    {
      "cell_type": "code",
      "source": [
        "# 3. Drop rows with missing reviews or ratings\n",
        "df_cleaned.dropna(subset=['Review', 'Rating'], inplace=True)\n",
        "\n",
        "print(df_cleaned[['Review', 'Rating', 'Time', 'Metadata']].isnull().sum())"
      ],
      "metadata": {
        "colab": {
          "base_uri": "https://localhost:8080/"
        },
        "id": "NLmnCFHCDX4u",
        "outputId": "2cc63b38-9ff3-49b1-9e31-0656421ffd1b"
      },
      "execution_count": 8,
      "outputs": [
        {
          "output_type": "stream",
          "name": "stdout",
          "text": [
            "Review      0\n",
            "Rating      0\n",
            "Time        0\n",
            "Metadata    0\n",
            "dtype: int64\n"
          ]
        }
      ]
    },
    {
      "cell_type": "code",
      "source": [
        "# 4. Convert Rating to float (some are stored as strings)\n",
        "df_cleaned['Rating'] = pd.to_numeric(df_cleaned['Rating'], errors='coerce')\n",
        "\n",
        "print(df_cleaned['Rating'].dtype)"
      ],
      "metadata": {
        "colab": {
          "base_uri": "https://localhost:8080/"
        },
        "id": "4JOWA7EwDXnh",
        "outputId": "7c6027fc-6c06-40bb-db3f-a31bcc3c9428"
      },
      "execution_count": 9,
      "outputs": [
        {
          "output_type": "stream",
          "name": "stdout",
          "text": [
            "float64\n"
          ]
        }
      ]
    },
    {
      "cell_type": "code",
      "source": [
        "# 5. Convert Time to datetime\n",
        "df_cleaned['Time'] = pd.to_datetime(df_cleaned['Time'], errors='coerce')\n",
        "\n",
        "print(df_cleaned['Time'].dtype)"
      ],
      "metadata": {
        "colab": {
          "base_uri": "https://localhost:8080/"
        },
        "id": "o67jUAOzFCP0",
        "outputId": "ce1d4dd6-98dd-401d-81dd-57d2051ea16c"
      },
      "execution_count": 10,
      "outputs": [
        {
          "output_type": "stream",
          "name": "stdout",
          "text": [
            "datetime64[ns]\n"
          ]
        }
      ]
    },
    {
      "cell_type": "code",
      "source": [
        "# 6. Drop rows where time is still null (bad formatting)\n",
        "df_cleaned.dropna(subset=['Time'], inplace=True)"
      ],
      "metadata": {
        "id": "Zdyey9OwFBz-"
      },
      "execution_count": 11,
      "outputs": []
    },
    {
      "cell_type": "code",
      "source": [
        "# 7. Extract \"Review Count\" and \"Follower Count\" from Metadata\n",
        "def parse_metadata(meta):\n",
        "    try:\n",
        "        reviews = int(meta.split(\",\")[0].strip().split()[0])\n",
        "        followers = int(meta.split(\",\")[1].strip().split()[0])\n",
        "        return pd.Series([reviews, followers])\n",
        "    except:\n",
        "        return pd.Series([None, None])\n",
        "\n",
        "df_cleaned[['Review_Count', 'Follower_Count']] = df_cleaned['Metadata'].apply(parse_metadata)"
      ],
      "metadata": {
        "id": "tVP2HosAHeJR"
      },
      "execution_count": 12,
      "outputs": []
    },
    {
      "cell_type": "code",
      "source": [
        "print(\"Columns:\", df_cleaned.columns.tolist())"
      ],
      "metadata": {
        "colab": {
          "base_uri": "https://localhost:8080/"
        },
        "id": "PcMmwBwZHdsM",
        "outputId": "c0375865-685b-47bf-a55d-fc062f1bb3af"
      },
      "execution_count": 13,
      "outputs": [
        {
          "output_type": "stream",
          "name": "stdout",
          "text": [
            "Columns: ['Restaurant', 'Reviewer', 'Review', 'Rating', 'Metadata', 'Time', 'Pictures', 'Review_Count', 'Follower_Count']\n"
          ]
        }
      ]
    },
    {
      "cell_type": "code",
      "source": [
        "# 8. Drop rows with null Review_Count or Follower_Count (optional)\n",
        "df_cleaned.dropna(subset=['Review_Count', 'Follower_Count'], inplace=True)"
      ],
      "metadata": {
        "id": "KyYtU9PdIqE7"
      },
      "execution_count": 14,
      "outputs": []
    },
    {
      "cell_type": "code",
      "source": [
        "# 9. Convert extracted counts to integers\n",
        "df_cleaned['Review_Count'] = df_cleaned['Review_Count'].astype(int)\n",
        "df_cleaned['Follower_Count'] = df_cleaned['Follower_Count'].astype(int)"
      ],
      "metadata": {
        "id": "1Gu8hi4zIpv4"
      },
      "execution_count": 15,
      "outputs": []
    },
    {
      "cell_type": "code",
      "source": [
        "# 10. Reset index for a clean export\n",
        "df_cleaned.reset_index(drop=True, inplace=True)"
      ],
      "metadata": {
        "id": "OH2CA0nqJ7ua"
      },
      "execution_count": 16,
      "outputs": []
    },
    {
      "cell_type": "code",
      "source": [
        "# Final check\n",
        "print(df_cleaned.info())\n",
        "print(df_cleaned.head(2))"
      ],
      "metadata": {
        "colab": {
          "base_uri": "https://localhost:8080/"
        },
        "id": "jTwH_7FWKWqi",
        "outputId": "b8a833fb-ff7d-4770-d5c6-572cbbacfdbe"
      },
      "execution_count": 17,
      "outputs": [
        {
          "output_type": "stream",
          "name": "stdout",
          "text": [
            "<class 'pandas.core.frame.DataFrame'>\n",
            "RangeIndex: 8381 entries, 0 to 8380\n",
            "Data columns (total 9 columns):\n",
            " #   Column          Non-Null Count  Dtype         \n",
            "---  ------          --------------  -----         \n",
            " 0   Restaurant      8381 non-null   object        \n",
            " 1   Reviewer        8381 non-null   object        \n",
            " 2   Review          8381 non-null   object        \n",
            " 3   Rating          8380 non-null   float64       \n",
            " 4   Metadata        8381 non-null   object        \n",
            " 5   Time            8381 non-null   datetime64[ns]\n",
            " 6   Pictures        8381 non-null   int64         \n",
            " 7   Review_Count    8381 non-null   int64         \n",
            " 8   Follower_Count  8381 non-null   int64         \n",
            "dtypes: datetime64[ns](1), float64(1), int64(3), object(4)\n",
            "memory usage: 589.4+ KB\n",
            "None\n",
            "        Restaurant              Reviewer  \\\n",
            "0  Beyond Flavours     Rusha Chakraborty   \n",
            "1  Beyond Flavours  Anusha Tirumalaneedi   \n",
            "\n",
            "                                              Review  Rating  \\\n",
            "0  The ambience was good, food was quite good . h...     5.0   \n",
            "1  Ambience is too good for a pleasant evening. S...     5.0   \n",
            "\n",
            "                  Metadata                Time  Pictures  Review_Count  \\\n",
            "0   1 Review , 2 Followers 2019-05-25 15:54:00         0             1   \n",
            "1  3 Reviews , 2 Followers 2019-05-25 14:20:00         0             3   \n",
            "\n",
            "   Follower_Count  \n",
            "0               2  \n",
            "1               2  \n"
          ]
        }
      ]
    },
    {
      "cell_type": "code",
      "source": [
        "df_cleaned.to_csv(\"restaurant_reviews_cleaned.csv\", index=False)\n"
      ],
      "metadata": {
        "id": "twGtLOq5Kp70"
      },
      "execution_count": 18,
      "outputs": []
    },
    {
      "cell_type": "code",
      "source": [
        "# Load the cleaned CSV uploaded\n",
        "df = pd.read_csv('restaurant_reviews_cleaned.csv')\n",
        "\n",
        "df.head()"
      ],
      "metadata": {
        "colab": {
          "base_uri": "https://localhost:8080/",
          "height": 449
        },
        "id": "NOI8i9GIcFl5",
        "outputId": "90a4aa21-8e33-4f08-fcec-425f85b540e8"
      },
      "execution_count": 19,
      "outputs": [
        {
          "output_type": "execute_result",
          "data": {
            "text/plain": [
              "        Restaurant              Reviewer  \\\n",
              "0  Beyond Flavours     Rusha Chakraborty   \n",
              "1  Beyond Flavours  Anusha Tirumalaneedi   \n",
              "2  Beyond Flavours       Ashok Shekhawat   \n",
              "3  Beyond Flavours        Swapnil Sarkar   \n",
              "4  Beyond Flavours                Dileep   \n",
              "\n",
              "                                              Review  Rating  \\\n",
              "0  The ambience was good, food was quite good . h...     5.0   \n",
              "1  Ambience is too good for a pleasant evening. S...     5.0   \n",
              "2  A must try.. great food great ambience. Thnx f...     5.0   \n",
              "3  Soumen das and Arun was a great guy. Only beca...     5.0   \n",
              "4  Food is good.we ordered Kodi drumsticks and ba...     5.0   \n",
              "\n",
              "                  Metadata                 Time  Pictures  Review_Count  \\\n",
              "0   1 Review , 2 Followers  2019-05-25 15:54:00         0             1   \n",
              "1  3 Reviews , 2 Followers  2019-05-25 14:20:00         0             3   \n",
              "2  2 Reviews , 3 Followers  2019-05-24 22:54:00         0             2   \n",
              "3    1 Review , 1 Follower  2019-05-24 22:11:00         0             1   \n",
              "4  3 Reviews , 2 Followers  2019-05-24 21:37:00         0             3   \n",
              "\n",
              "   Follower_Count  \n",
              "0               2  \n",
              "1               2  \n",
              "2               3  \n",
              "3               1  \n",
              "4               2  "
            ],
            "text/html": [
              "\n",
              "  <div id=\"df-7f8e05f6-4da3-4fb5-a2e4-a012ff6d1808\" class=\"colab-df-container\">\n",
              "    <div>\n",
              "<style scoped>\n",
              "    .dataframe tbody tr th:only-of-type {\n",
              "        vertical-align: middle;\n",
              "    }\n",
              "\n",
              "    .dataframe tbody tr th {\n",
              "        vertical-align: top;\n",
              "    }\n",
              "\n",
              "    .dataframe thead th {\n",
              "        text-align: right;\n",
              "    }\n",
              "</style>\n",
              "<table border=\"1\" class=\"dataframe\">\n",
              "  <thead>\n",
              "    <tr style=\"text-align: right;\">\n",
              "      <th></th>\n",
              "      <th>Restaurant</th>\n",
              "      <th>Reviewer</th>\n",
              "      <th>Review</th>\n",
              "      <th>Rating</th>\n",
              "      <th>Metadata</th>\n",
              "      <th>Time</th>\n",
              "      <th>Pictures</th>\n",
              "      <th>Review_Count</th>\n",
              "      <th>Follower_Count</th>\n",
              "    </tr>\n",
              "  </thead>\n",
              "  <tbody>\n",
              "    <tr>\n",
              "      <th>0</th>\n",
              "      <td>Beyond Flavours</td>\n",
              "      <td>Rusha Chakraborty</td>\n",
              "      <td>The ambience was good, food was quite good . h...</td>\n",
              "      <td>5.0</td>\n",
              "      <td>1 Review , 2 Followers</td>\n",
              "      <td>2019-05-25 15:54:00</td>\n",
              "      <td>0</td>\n",
              "      <td>1</td>\n",
              "      <td>2</td>\n",
              "    </tr>\n",
              "    <tr>\n",
              "      <th>1</th>\n",
              "      <td>Beyond Flavours</td>\n",
              "      <td>Anusha Tirumalaneedi</td>\n",
              "      <td>Ambience is too good for a pleasant evening. S...</td>\n",
              "      <td>5.0</td>\n",
              "      <td>3 Reviews , 2 Followers</td>\n",
              "      <td>2019-05-25 14:20:00</td>\n",
              "      <td>0</td>\n",
              "      <td>3</td>\n",
              "      <td>2</td>\n",
              "    </tr>\n",
              "    <tr>\n",
              "      <th>2</th>\n",
              "      <td>Beyond Flavours</td>\n",
              "      <td>Ashok Shekhawat</td>\n",
              "      <td>A must try.. great food great ambience. Thnx f...</td>\n",
              "      <td>5.0</td>\n",
              "      <td>2 Reviews , 3 Followers</td>\n",
              "      <td>2019-05-24 22:54:00</td>\n",
              "      <td>0</td>\n",
              "      <td>2</td>\n",
              "      <td>3</td>\n",
              "    </tr>\n",
              "    <tr>\n",
              "      <th>3</th>\n",
              "      <td>Beyond Flavours</td>\n",
              "      <td>Swapnil Sarkar</td>\n",
              "      <td>Soumen das and Arun was a great guy. Only beca...</td>\n",
              "      <td>5.0</td>\n",
              "      <td>1 Review , 1 Follower</td>\n",
              "      <td>2019-05-24 22:11:00</td>\n",
              "      <td>0</td>\n",
              "      <td>1</td>\n",
              "      <td>1</td>\n",
              "    </tr>\n",
              "    <tr>\n",
              "      <th>4</th>\n",
              "      <td>Beyond Flavours</td>\n",
              "      <td>Dileep</td>\n",
              "      <td>Food is good.we ordered Kodi drumsticks and ba...</td>\n",
              "      <td>5.0</td>\n",
              "      <td>3 Reviews , 2 Followers</td>\n",
              "      <td>2019-05-24 21:37:00</td>\n",
              "      <td>0</td>\n",
              "      <td>3</td>\n",
              "      <td>2</td>\n",
              "    </tr>\n",
              "  </tbody>\n",
              "</table>\n",
              "</div>\n",
              "    <div class=\"colab-df-buttons\">\n",
              "\n",
              "  <div class=\"colab-df-container\">\n",
              "    <button class=\"colab-df-convert\" onclick=\"convertToInteractive('df-7f8e05f6-4da3-4fb5-a2e4-a012ff6d1808')\"\n",
              "            title=\"Convert this dataframe to an interactive table.\"\n",
              "            style=\"display:none;\">\n",
              "\n",
              "  <svg xmlns=\"http://www.w3.org/2000/svg\" height=\"24px\" viewBox=\"0 -960 960 960\">\n",
              "    <path d=\"M120-120v-720h720v720H120Zm60-500h600v-160H180v160Zm220 220h160v-160H400v160Zm0 220h160v-160H400v160ZM180-400h160v-160H180v160Zm440 0h160v-160H620v160ZM180-180h160v-160H180v160Zm440 0h160v-160H620v160Z\"/>\n",
              "  </svg>\n",
              "    </button>\n",
              "\n",
              "  <style>\n",
              "    .colab-df-container {\n",
              "      display:flex;\n",
              "      gap: 12px;\n",
              "    }\n",
              "\n",
              "    .colab-df-convert {\n",
              "      background-color: #E8F0FE;\n",
              "      border: none;\n",
              "      border-radius: 50%;\n",
              "      cursor: pointer;\n",
              "      display: none;\n",
              "      fill: #1967D2;\n",
              "      height: 32px;\n",
              "      padding: 0 0 0 0;\n",
              "      width: 32px;\n",
              "    }\n",
              "\n",
              "    .colab-df-convert:hover {\n",
              "      background-color: #E2EBFA;\n",
              "      box-shadow: 0px 1px 2px rgba(60, 64, 67, 0.3), 0px 1px 3px 1px rgba(60, 64, 67, 0.15);\n",
              "      fill: #174EA6;\n",
              "    }\n",
              "\n",
              "    .colab-df-buttons div {\n",
              "      margin-bottom: 4px;\n",
              "    }\n",
              "\n",
              "    [theme=dark] .colab-df-convert {\n",
              "      background-color: #3B4455;\n",
              "      fill: #D2E3FC;\n",
              "    }\n",
              "\n",
              "    [theme=dark] .colab-df-convert:hover {\n",
              "      background-color: #434B5C;\n",
              "      box-shadow: 0px 1px 3px 1px rgba(0, 0, 0, 0.15);\n",
              "      filter: drop-shadow(0px 1px 2px rgba(0, 0, 0, 0.3));\n",
              "      fill: #FFFFFF;\n",
              "    }\n",
              "  </style>\n",
              "\n",
              "    <script>\n",
              "      const buttonEl =\n",
              "        document.querySelector('#df-7f8e05f6-4da3-4fb5-a2e4-a012ff6d1808 button.colab-df-convert');\n",
              "      buttonEl.style.display =\n",
              "        google.colab.kernel.accessAllowed ? 'block' : 'none';\n",
              "\n",
              "      async function convertToInteractive(key) {\n",
              "        const element = document.querySelector('#df-7f8e05f6-4da3-4fb5-a2e4-a012ff6d1808');\n",
              "        const dataTable =\n",
              "          await google.colab.kernel.invokeFunction('convertToInteractive',\n",
              "                                                    [key], {});\n",
              "        if (!dataTable) return;\n",
              "\n",
              "        const docLinkHtml = 'Like what you see? Visit the ' +\n",
              "          '<a target=\"_blank\" href=https://colab.research.google.com/notebooks/data_table.ipynb>data table notebook</a>'\n",
              "          + ' to learn more about interactive tables.';\n",
              "        element.innerHTML = '';\n",
              "        dataTable['output_type'] = 'display_data';\n",
              "        await google.colab.output.renderOutput(dataTable, element);\n",
              "        const docLink = document.createElement('div');\n",
              "        docLink.innerHTML = docLinkHtml;\n",
              "        element.appendChild(docLink);\n",
              "      }\n",
              "    </script>\n",
              "  </div>\n",
              "\n",
              "\n",
              "    <div id=\"df-14451d2a-1e9c-48da-bff1-81519e029b44\">\n",
              "      <button class=\"colab-df-quickchart\" onclick=\"quickchart('df-14451d2a-1e9c-48da-bff1-81519e029b44')\"\n",
              "                title=\"Suggest charts\"\n",
              "                style=\"display:none;\">\n",
              "\n",
              "<svg xmlns=\"http://www.w3.org/2000/svg\" height=\"24px\"viewBox=\"0 0 24 24\"\n",
              "     width=\"24px\">\n",
              "    <g>\n",
              "        <path d=\"M19 3H5c-1.1 0-2 .9-2 2v14c0 1.1.9 2 2 2h14c1.1 0 2-.9 2-2V5c0-1.1-.9-2-2-2zM9 17H7v-7h2v7zm4 0h-2V7h2v10zm4 0h-2v-4h2v4z\"/>\n",
              "    </g>\n",
              "</svg>\n",
              "      </button>\n",
              "\n",
              "<style>\n",
              "  .colab-df-quickchart {\n",
              "      --bg-color: #E8F0FE;\n",
              "      --fill-color: #1967D2;\n",
              "      --hover-bg-color: #E2EBFA;\n",
              "      --hover-fill-color: #174EA6;\n",
              "      --disabled-fill-color: #AAA;\n",
              "      --disabled-bg-color: #DDD;\n",
              "  }\n",
              "\n",
              "  [theme=dark] .colab-df-quickchart {\n",
              "      --bg-color: #3B4455;\n",
              "      --fill-color: #D2E3FC;\n",
              "      --hover-bg-color: #434B5C;\n",
              "      --hover-fill-color: #FFFFFF;\n",
              "      --disabled-bg-color: #3B4455;\n",
              "      --disabled-fill-color: #666;\n",
              "  }\n",
              "\n",
              "  .colab-df-quickchart {\n",
              "    background-color: var(--bg-color);\n",
              "    border: none;\n",
              "    border-radius: 50%;\n",
              "    cursor: pointer;\n",
              "    display: none;\n",
              "    fill: var(--fill-color);\n",
              "    height: 32px;\n",
              "    padding: 0;\n",
              "    width: 32px;\n",
              "  }\n",
              "\n",
              "  .colab-df-quickchart:hover {\n",
              "    background-color: var(--hover-bg-color);\n",
              "    box-shadow: 0 1px 2px rgba(60, 64, 67, 0.3), 0 1px 3px 1px rgba(60, 64, 67, 0.15);\n",
              "    fill: var(--button-hover-fill-color);\n",
              "  }\n",
              "\n",
              "  .colab-df-quickchart-complete:disabled,\n",
              "  .colab-df-quickchart-complete:disabled:hover {\n",
              "    background-color: var(--disabled-bg-color);\n",
              "    fill: var(--disabled-fill-color);\n",
              "    box-shadow: none;\n",
              "  }\n",
              "\n",
              "  .colab-df-spinner {\n",
              "    border: 2px solid var(--fill-color);\n",
              "    border-color: transparent;\n",
              "    border-bottom-color: var(--fill-color);\n",
              "    animation:\n",
              "      spin 1s steps(1) infinite;\n",
              "  }\n",
              "\n",
              "  @keyframes spin {\n",
              "    0% {\n",
              "      border-color: transparent;\n",
              "      border-bottom-color: var(--fill-color);\n",
              "      border-left-color: var(--fill-color);\n",
              "    }\n",
              "    20% {\n",
              "      border-color: transparent;\n",
              "      border-left-color: var(--fill-color);\n",
              "      border-top-color: var(--fill-color);\n",
              "    }\n",
              "    30% {\n",
              "      border-color: transparent;\n",
              "      border-left-color: var(--fill-color);\n",
              "      border-top-color: var(--fill-color);\n",
              "      border-right-color: var(--fill-color);\n",
              "    }\n",
              "    40% {\n",
              "      border-color: transparent;\n",
              "      border-right-color: var(--fill-color);\n",
              "      border-top-color: var(--fill-color);\n",
              "    }\n",
              "    60% {\n",
              "      border-color: transparent;\n",
              "      border-right-color: var(--fill-color);\n",
              "    }\n",
              "    80% {\n",
              "      border-color: transparent;\n",
              "      border-right-color: var(--fill-color);\n",
              "      border-bottom-color: var(--fill-color);\n",
              "    }\n",
              "    90% {\n",
              "      border-color: transparent;\n",
              "      border-bottom-color: var(--fill-color);\n",
              "    }\n",
              "  }\n",
              "</style>\n",
              "\n",
              "      <script>\n",
              "        async function quickchart(key) {\n",
              "          const quickchartButtonEl =\n",
              "            document.querySelector('#' + key + ' button');\n",
              "          quickchartButtonEl.disabled = true;  // To prevent multiple clicks.\n",
              "          quickchartButtonEl.classList.add('colab-df-spinner');\n",
              "          try {\n",
              "            const charts = await google.colab.kernel.invokeFunction(\n",
              "                'suggestCharts', [key], {});\n",
              "          } catch (error) {\n",
              "            console.error('Error during call to suggestCharts:', error);\n",
              "          }\n",
              "          quickchartButtonEl.classList.remove('colab-df-spinner');\n",
              "          quickchartButtonEl.classList.add('colab-df-quickchart-complete');\n",
              "        }\n",
              "        (() => {\n",
              "          let quickchartButtonEl =\n",
              "            document.querySelector('#df-14451d2a-1e9c-48da-bff1-81519e029b44 button');\n",
              "          quickchartButtonEl.style.display =\n",
              "            google.colab.kernel.accessAllowed ? 'block' : 'none';\n",
              "        })();\n",
              "      </script>\n",
              "    </div>\n",
              "\n",
              "    </div>\n",
              "  </div>\n"
            ],
            "application/vnd.google.colaboratory.intrinsic+json": {
              "type": "dataframe",
              "variable_name": "df",
              "summary": "{\n  \"name\": \"df\",\n  \"rows\": 8381,\n  \"fields\": [\n    {\n      \"column\": \"Restaurant\",\n      \"properties\": {\n        \"dtype\": \"category\",\n        \"num_unique_values\": 100,\n        \"samples\": [\n          \"GD's\",\n          \"Diners Pavilion\",\n          \"Urban Asia - Kitchen & Bar\"\n        ],\n        \"semantic_type\": \"\",\n        \"description\": \"\"\n      }\n    },\n    {\n      \"column\": \"Reviewer\",\n      \"properties\": {\n        \"dtype\": \"string\",\n        \"num_unique_values\": 6150,\n        \"samples\": [\n          \"Saugata Chatterjee\",\n          \"Manav Mohanty\",\n          \"Sayar Ghosh Roy\"\n        ],\n        \"semantic_type\": \"\",\n        \"description\": \"\"\n      }\n    },\n    {\n      \"column\": \"Review\",\n      \"properties\": {\n        \"dtype\": \"string\",\n        \"num_unique_values\": 8049,\n        \"samples\": [\n          \"Very good concept and unique flavours ! My personal favourite is fruit exotica and tiramisu , would certainly again and again just to have these two flavours.\\n\\nEagerly waiting for season special Alphonso ice cream !\",\n          \"Had been there for friend's birthday party,it was on Saturday,such an amazing place we have ordered mocktails,veg and non veg starters some alcohol,tasty food fine ambeince but very far from my place,dance floor was so good,go with your frnds and have fun.\",\n          \"Very very bad. The food was not of good taste and quality as well. It\\u2019s like throwing money in water. Just some fancy names they have kept for dishes but the standard aren\\u2019t even like for petty shops. In fact after having the food both me and my husband have got food infection. Pls close ur shop instead of making people sick.\"\n        ],\n        \"semantic_type\": \"\",\n        \"description\": \"\"\n      }\n    },\n    {\n      \"column\": \"Rating\",\n      \"properties\": {\n        \"dtype\": \"number\",\n        \"std\": 1.4407035341211651,\n        \"min\": 1.0,\n        \"max\": 5.0,\n        \"num_unique_values\": 9,\n        \"samples\": [\n          2.5,\n          4.0,\n          3.5\n        ],\n        \"semantic_type\": \"\",\n        \"description\": \"\"\n      }\n    },\n    {\n      \"column\": \"Metadata\",\n      \"properties\": {\n        \"dtype\": \"category\",\n        \"num_unique_values\": 2463,\n        \"samples\": [\n          \"6 Reviews , 24 Followers\",\n          \"33 Reviews , 2041 Followers\",\n          \"20 Reviews , 24 Followers\"\n        ],\n        \"semantic_type\": \"\",\n        \"description\": \"\"\n      }\n    },\n    {\n      \"column\": \"Time\",\n      \"properties\": {\n        \"dtype\": \"object\",\n        \"num_unique_values\": 8264,\n        \"samples\": [\n          \"2018-08-10 13:12:00\",\n          \"2018-08-03 22:02:00\",\n          \"2018-12-13 18:33:00\"\n        ],\n        \"semantic_type\": \"\",\n        \"description\": \"\"\n      }\n    },\n    {\n      \"column\": \"Pictures\",\n      \"properties\": {\n        \"dtype\": \"number\",\n        \"std\": 2,\n        \"min\": 0,\n        \"max\": 64,\n        \"num_unique_values\": 36,\n        \"samples\": [\n          32,\n          15,\n          42\n        ],\n        \"semantic_type\": \"\",\n        \"description\": \"\"\n      }\n    },\n    {\n      \"column\": \"Review_Count\",\n      \"properties\": {\n        \"dtype\": \"number\",\n        \"std\": 54,\n        \"min\": 0,\n        \"max\": 1031,\n        \"num_unique_values\": 234,\n        \"samples\": [\n          35,\n          390,\n          194\n        ],\n        \"semantic_type\": \"\",\n        \"description\": \"\"\n      }\n    },\n    {\n      \"column\": \"Follower_Count\",\n      \"properties\": {\n        \"dtype\": \"number\",\n        \"std\": 671,\n        \"min\": 1,\n        \"max\": 13410,\n        \"num_unique_values\": 750,\n        \"samples\": [\n          417,\n          187,\n          205\n        ],\n        \"semantic_type\": \"\",\n        \"description\": \"\"\n      }\n    }\n  ]\n}"
            }
          },
          "metadata": {},
          "execution_count": 19
        }
      ]
    },
    {
      "cell_type": "code",
      "source": [
        "# Install the BigQuery connector\n",
        "!pip install pandas-gbq --quiet"
      ],
      "metadata": {
        "id": "tiwqqchIcVzj"
      },
      "execution_count": 20,
      "outputs": []
    },
    {
      "cell_type": "code",
      "source": [
        "# Authenticate to access your BigQuery Sandbox\n",
        "from google.colab import auth\n",
        "auth.authenticate_user()"
      ],
      "metadata": {
        "id": "wjY_mZ2_cVm3"
      },
      "execution_count": 21,
      "outputs": []
    },
    {
      "cell_type": "code",
      "source": [
        "# Setup BigQuery Project + Dataset Details\n",
        "PROJECT_ID = 'pro-router-452116-c3'\n",
        "DATASET = 'restaurant_reviews_dataset'\n",
        "TABLE = 'cleaned_reviews'\n",
        "\n",
        "# Destination format\n",
        "DESTINATION_TABLE = f\"{DATASET}.{TABLE}\""
      ],
      "metadata": {
        "id": "Z6E3b3jJcVRW"
      },
      "execution_count": 22,
      "outputs": []
    },
    {
      "cell_type": "code",
      "source": [
        "# Push to BigQuery (will create the table and dataset if needed)\n",
        "to_gbq(df, destination_table=DESTINATION_TABLE, project_id=PROJECT_ID, if_exists='replace')\n"
      ],
      "metadata": {
        "colab": {
          "base_uri": "https://localhost:8080/"
        },
        "id": "wDRX_zbscU9Y",
        "outputId": "f5ed0bc4-b0bd-4cd4-dfdc-2f6694c2ea69"
      },
      "execution_count": 23,
      "outputs": [
        {
          "output_type": "stream",
          "name": "stderr",
          "text": [
            "100%|██████████| 1/1 [00:00<00:00, 12409.18it/s]\n"
          ]
        }
      ]
    },
    {
      "cell_type": "code",
      "source": [
        "# Simulated Task Logger\n",
        "def log(task_name):\n",
        "    print(f\"[{datetime.now().strftime('%Y-%m-%d %H:%M:%S')}] ✅ Task completed: {task_name}\")\n",
        "    time.sleep(1)  # simulate task delay"
      ],
      "metadata": {
        "id": "dVXPfLIYo015"
      },
      "execution_count": 24,
      "outputs": []
    },
    {
      "cell_type": "code",
      "source": [
        "# Step 1: Extract\n",
        "def extract_data():\n",
        "    print(\"🔍 Extracting data from CSV...\")\n",
        "    df = pd.read_csv('restaurant_reviews_cleaned.csv')\n",
        "    log(\"extract_data\")\n",
        "    return df"
      ],
      "metadata": {
        "id": "7az51-qOcUL6"
      },
      "execution_count": 25,
      "outputs": []
    },
    {
      "cell_type": "code",
      "source": [
        "# Step 2: Transform (simulate even though it's already clean)\n",
        "def transform_data(df):\n",
        "    print(\"🛠️  Transforming data...\")\n",
        "    df['Time'] = pd.to_datetime(df['Time'], errors='coerce')\n",
        "    df = df.dropna(subset=['Review', 'Rating', 'Time'])\n",
        "    df['Rating'] = pd.to_numeric(df['Rating'], errors='coerce')\n",
        "    df = df.reset_index(drop=True)\n",
        "    log(\"transform_data\")\n",
        "    return df"
      ],
      "metadata": {
        "id": "m6ogfaGOrbSm"
      },
      "execution_count": 26,
      "outputs": []
    },
    {
      "cell_type": "code",
      "source": [
        "# Step 3: Load to BigQuery\n",
        "def load_data(df, project_id, dataset, table):\n",
        "    from pandas_gbq import to_gbq\n",
        "    destination_table = f\"{dataset}.{table}\"\n",
        "    print(\"📤 Loading data to BigQuery...\")\n",
        "    to_gbq(df, destination_table=destination_table, project_id=project_id, if_exists='replace')\n",
        "    log(\"load_data\")"
      ],
      "metadata": {
        "id": "GXfGbZLera8s"
      },
      "execution_count": 27,
      "outputs": []
    },
    {
      "cell_type": "code",
      "source": [
        "# DAG Parameters\n",
        "PROJECT_ID = 'pro-router-452116-c3'\n",
        "DATASET = 'restaurant_reviews_dataset'\n",
        "TABLE = 'cleaned_reviews'"
      ],
      "metadata": {
        "id": "n3S36yONraU4"
      },
      "execution_count": 28,
      "outputs": []
    },
    {
      "cell_type": "code",
      "source": [
        "# === Simulated DAG Run ===\n",
        "print(\"🚀 Starting ETL DAG simulation...\\n\")\n",
        "df_raw = extract_data()\n",
        "df_transformed = transform_data(df_raw)\n",
        "load_data(df_transformed, PROJECT_ID, DATASET, TABLE)\n",
        "\n",
        "print(\"\\n✅ DAG pipeline run completed!\")"
      ],
      "metadata": {
        "colab": {
          "base_uri": "https://localhost:8080/"
        },
        "id": "b32uCdewsNm_",
        "outputId": "a02b6454-d821-47a2-b143-71b6aa4c18fc"
      },
      "execution_count": 29,
      "outputs": [
        {
          "output_type": "stream",
          "name": "stdout",
          "text": [
            "🚀 Starting ETL DAG simulation...\n",
            "\n",
            "🔍 Extracting data from CSV...\n",
            "[2025-06-25 17:26:58] ✅ Task completed: extract_data\n",
            "🛠️  Transforming data...\n",
            "[2025-06-25 17:26:59] ✅ Task completed: transform_data\n"
          ]
        },
        {
          "output_type": "stream",
          "name": "stderr",
          "text": [
            "/tmp/ipython-input-26-801557850.py:6: SettingWithCopyWarning: \n",
            "A value is trying to be set on a copy of a slice from a DataFrame.\n",
            "Try using .loc[row_indexer,col_indexer] = value instead\n",
            "\n",
            "See the caveats in the documentation: https://pandas.pydata.org/pandas-docs/stable/user_guide/indexing.html#returning-a-view-versus-a-copy\n",
            "  df['Rating'] = pd.to_numeric(df['Rating'], errors='coerce')\n"
          ]
        },
        {
          "output_type": "stream",
          "name": "stdout",
          "text": [
            "📤 Loading data to BigQuery...\n"
          ]
        },
        {
          "output_type": "stream",
          "name": "stderr",
          "text": [
            "100%|██████████| 1/1 [00:00<00:00, 14513.16it/s]\n"
          ]
        },
        {
          "output_type": "stream",
          "name": "stdout",
          "text": [
            "[2025-06-25 17:27:05] ✅ Task completed: load_data\n",
            "\n",
            "✅ DAG pipeline run completed!\n"
          ]
        }
      ]
    },
    {
      "cell_type": "code",
      "source": [],
      "metadata": {
        "id": "1buL5TGXsNS5"
      },
      "execution_count": null,
      "outputs": []
    },
    {
      "cell_type": "code",
      "source": [],
      "metadata": {
        "id": "bYGnmjPAsM-7"
      },
      "execution_count": null,
      "outputs": []
    }
  ]
}